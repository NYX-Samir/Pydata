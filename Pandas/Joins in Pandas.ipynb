{
 "cells": [
  {
   "cell_type": "code",
   "execution_count": 1,
   "metadata": {},
   "outputs": [],
   "source": [
    "import pandas as pd"
   ]
  },
  {
   "cell_type": "code",
   "execution_count": 7,
   "metadata": {},
   "outputs": [
    {
     "name": "stdout",
     "output_type": "stream",
     "text": [
      "  EMPID Name  Age\n",
      "0   EM1  ABC   21\n",
      "1   EM2  DEF   34\n",
      "2   EM9  GHI   56\n",
      "3   EM4  JKL   23\n",
      "4   EM5  MNO   43\n",
      "5  EM10  PQR   32\n",
      "\n",
      "  EMPID  SALARY\n",
      "0   EM1   20000\n",
      "1  EM42   34000\n",
      "2   EM3   43000\n",
      "3  EM21   23000\n",
      "4   EM5   12000\n",
      "5   EM6   24000\n"
     ]
    }
   ],
   "source": [
    "data1={\"EMPID\":[\"EM1\",\"EM2\",\"EM9\",\"EM4\",\"EM5\",\"EM10\"],\n",
    "    \"Name\":[\"ABC\",\"DEF\",\"GHI\",\"JKL\",\"MNO\",\"PQR\"],\n",
    "    \"Age\":[21,34,56,23,43,32]}\n",
    "\n",
    "data2={\"EMPID\":[\"EM1\",\"EM42\",\"EM3\",\"EM21\",\"EM5\",\"EM6\"],\n",
    "    \"SALARY\":[20000,34000,43000,23000,12000,24000]}\n",
    "\n",
    "d1=pd.DataFrame(data1)\n",
    "d2=pd.DataFrame(data2)\n",
    "print(d1)\n",
    "print()\n",
    "print(d2)\n"
   ]
  },
  {
   "cell_type": "code",
   "execution_count": 11,
   "metadata": {},
   "outputs": [
    {
     "name": "stdout",
     "output_type": "stream",
     "text": [
      "  EMPID Name  Age  SALARY\n",
      "0   EM1  ABC   21   20000\n",
      "1   EM5  MNO   43   12000\n"
     ]
    }
   ],
   "source": [
    "Data=pd.merge(d1,d2, on=\"EMPID\",how=\"inner\")\n",
    "print(Data)"
   ]
  },
  {
   "cell_type": "code",
   "execution_count": 9,
   "metadata": {},
   "outputs": [
    {
     "name": "stdout",
     "output_type": "stream",
     "text": [
      "  EMPID Name  Age   SALARY\n",
      "0   EM1  ABC   21  20000.0\n",
      "1   EM2  DEF   34      NaN\n",
      "2   EM9  GHI   56      NaN\n",
      "3   EM4  JKL   23      NaN\n",
      "4   EM5  MNO   43  12000.0\n",
      "5  EM10  PQR   32      NaN\n"
     ]
    }
   ],
   "source": [
    "Data=pd.merge(d1,d2, how='left')\n",
    "print(Data)"
   ]
  },
  {
   "cell_type": "code",
   "execution_count": 10,
   "metadata": {},
   "outputs": [
    {
     "name": "stdout",
     "output_type": "stream",
     "text": [
      "  EMPID Name   Age  SALARY\n",
      "0   EM1  ABC  21.0   20000\n",
      "1  EM42  NaN   NaN   34000\n",
      "2   EM3  NaN   NaN   43000\n",
      "3  EM21  NaN   NaN   23000\n",
      "4   EM5  MNO  43.0   12000\n",
      "5   EM6  NaN   NaN   24000\n"
     ]
    }
   ],
   "source": [
    "Data=pd.merge(d1,d2, how='right')\n",
    "print(Data)"
   ]
  },
  {
   "cell_type": "code",
   "execution_count": 12,
   "metadata": {},
   "outputs": [
    {
     "name": "stdout",
     "output_type": "stream",
     "text": [
      "  EMPID Name   Age   SALARY\n",
      "0   EM1  ABC  21.0  20000.0\n",
      "1  EM10  PQR  32.0      NaN\n",
      "2   EM2  DEF  34.0      NaN\n",
      "3  EM21  NaN   NaN  23000.0\n",
      "4   EM3  NaN   NaN  43000.0\n",
      "5   EM4  JKL  23.0      NaN\n",
      "6  EM42  NaN   NaN  34000.0\n",
      "7   EM5  MNO  43.0  12000.0\n",
      "8   EM6  NaN   NaN  24000.0\n",
      "9   EM9  GHI  56.0      NaN\n"
     ]
    }
   ],
   "source": [
    "Data=pd.merge(d1,d2, how='outer')\n",
    "print(Data)"
   ]
  },
  {
   "cell_type": "code",
   "execution_count": 15,
   "metadata": {},
   "outputs": [
    {
     "name": "stdout",
     "output_type": "stream",
     "text": [
      "  EMPID Name   Age   SALARY\n",
      "0   EM1  ABC  21.0      NaN\n",
      "1   EM2  DEF  34.0      NaN\n",
      "2   EM9  GHI  56.0      NaN\n",
      "3   EM4  JKL  23.0      NaN\n",
      "4   EM5  MNO  43.0      NaN\n",
      "5  EM10  PQR  32.0      NaN\n",
      "0   EM1  NaN   NaN  20000.0\n",
      "1  EM42  NaN   NaN  34000.0\n",
      "2   EM3  NaN   NaN  43000.0\n",
      "3  EM21  NaN   NaN  23000.0\n",
      "4   EM5  NaN   NaN  12000.0\n",
      "5   EM6  NaN   NaN  24000.0\n"
     ]
    }
   ],
   "source": [
    "Data_con=pd.concat([d1,d2])\n",
    "print(Data_con)"
   ]
  },
  {
   "cell_type": "code",
   "execution_count": null,
   "metadata": {},
   "outputs": [],
   "source": []
  }
 ],
 "metadata": {
  "kernelspec": {
   "display_name": ".venv",
   "language": "python",
   "name": "python3"
  },
  "language_info": {
   "codemirror_mode": {
    "name": "ipython",
    "version": 3
   },
   "file_extension": ".py",
   "mimetype": "text/x-python",
   "name": "python",
   "nbconvert_exporter": "python",
   "pygments_lexer": "ipython3",
   "version": "3.13.0rc3"
  }
 },
 "nbformat": 4,
 "nbformat_minor": 2
}
