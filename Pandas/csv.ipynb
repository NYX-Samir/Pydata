{
 "cells": [
  {
   "cell_type": "code",
   "execution_count": 58,
   "metadata": {},
   "outputs": [],
   "source": [
    "import pandas as pd"
   ]
  },
  {
   "cell_type": "code",
   "execution_count": 59,
   "metadata": {},
   "outputs": [
    {
     "name": "stdout",
     "output_type": "stream",
     "text": [
      "    DEPTID  EMPID  BONUS FIRST Name     LAST Name    SALARY\n",
      "0     10.0    1.0      0      Arnab           Dey   10000.0\n",
      "1     20.0    2.0    500      Arnab           Dey   20000.0\n",
      "2     30.0    3.0    500   Pratyush           Das   23000.0\n",
      "3     40.0    4.0    500      Pinky         gupta   40000.0\n",
      "4     50.0    NaN      0       Ravi          Kant       NaN\n",
      "5     60.0    6.0    500      Ravee         Gupta   12673.0\n",
      "6     70.0    7.0    500    Raveena       Raveena       NaN\n",
      "7     80.0    NaN    500     Harley        Deavid   10000.0\n",
      "8      NaN    9.0    500       Moti          Sign       NaN\n",
      "9    100.0   10.0      0      Sutki         Kumar   20000.0\n",
      "10   110.0   11.0    500       Lala          Sign   40000.0\n",
      "11     NaN   12.0    500      Chomu         Gupta   50000.0\n",
      "12   130.0   13.0    500       Moti           Lal  100000.0\n",
      "13   140.0   14.0      0     Ankita  Bhattacharya   29999.0\n",
      "14   150.0   15.0    500     Ankita           Dey   37900.0\n",
      "15   200.0   16.0    500        NaN           Das   20000.0\n",
      "16   170.0   17.0      0        NaN         Gupta       NaN\n",
      "17   180.0   18.0    500    Ankirta        Ghupta   20000.0\n",
      "18   190.0   19.0      0        NaN        Kumari   10000.0\n"
     ]
    }
   ],
   "source": [
    "df=pd.read_excel(r\"C:\\Users\\evilk\\Downloads\\Data Join vs Data Blending.xlsx\")\n",
    "print(df)"
   ]
  },
  {
   "cell_type": "code",
   "execution_count": 60,
   "metadata": {},
   "outputs": [
    {
     "name": "stdout",
     "output_type": "stream",
     "text": [
      "    DEPTID  EMPID  BONUS FIRST Name     LAST Name    SALARY\n",
      "0     10.0    1.0      0      Arnab           Dey   10000.0\n",
      "1     20.0    2.0    500      Arnab           Dey   20000.0\n",
      "2     30.0    3.0    500   Pratyush           Das   23000.0\n",
      "3     40.0    4.0    500      Pinky         gupta   40000.0\n",
      "4     50.0    NaN      0       Ravi          Kant       NaN\n",
      "5     60.0    6.0    500      Ravee         Gupta   12673.0\n",
      "6     70.0    7.0    500    Raveena       Raveena       NaN\n",
      "7     80.0    NaN    500     Harley        Deavid   10000.0\n",
      "8      NaN    9.0    500       Moti          Sign       NaN\n",
      "9    100.0   10.0      0      Sutki         Kumar   20000.0\n",
      "10   110.0   11.0    500       Lala          Sign   40000.0\n",
      "11     NaN   12.0    500      Chomu         Gupta   50000.0\n",
      "12   130.0   13.0    500       Moti           Lal  100000.0\n",
      "13   140.0   14.0      0     Ankita  Bhattacharya   29999.0\n",
      "14   150.0   15.0    500     Ankita           Dey   37900.0\n",
      "15   200.0   16.0    500        NaN           Das   20000.0\n",
      "16   170.0   17.0      0        NaN         Gupta       NaN\n",
      "17   180.0   18.0    500    Ankirta        Ghupta   20000.0\n",
      "18   190.0   19.0      0        NaN        Kumari   10000.0\n"
     ]
    }
   ],
   "source": [
    "df=pd.read_excel(r\"C:\\Users\\evilk\\Downloads\\Data Join vs Data Blending.xlsx\")\n",
    "print(df)"
   ]
  },
  {
   "cell_type": "markdown",
   "metadata": {},
   "source": [
    "### Head and Tail\n"
   ]
  },
  {
   "cell_type": "code",
   "execution_count": 61,
   "metadata": {},
   "outputs": [
    {
     "name": "stdout",
     "output_type": "stream",
     "text": [
      "   DEPTID  EMPID  BONUS FIRST Name LAST Name   SALARY\n",
      "0    10.0    1.0      0      Arnab       Dey  10000.0\n",
      "1    20.0    2.0    500      Arnab       Dey  20000.0\n",
      "2    30.0    3.0    500   Pratyush       Das  23000.0\n",
      "3    40.0    4.0    500      Pinky     gupta  40000.0\n",
      "4    50.0    NaN      0       Ravi      Kant      NaN\n",
      "5    60.0    6.0    500      Ravee     Gupta  12673.0\n",
      "6    70.0    7.0    500    Raveena   Raveena      NaN\n",
      "7    80.0    NaN    500     Harley    Deavid  10000.0\n",
      "8     NaN    9.0    500       Moti      Sign      NaN\n",
      "9   100.0   10.0      0      Sutki     Kumar  20000.0\n",
      "-----------------\n"
     ]
    }
   ],
   "source": [
    "print(df.head(10))\n",
    "print(\"-----------------\")\n"
   ]
  },
  {
   "cell_type": "code",
   "execution_count": 62,
   "metadata": {},
   "outputs": [
    {
     "name": "stdout",
     "output_type": "stream",
     "text": [
      "    DEPTID  EMPID  BONUS FIRST Name     LAST Name    SALARY\n",
      "9    100.0   10.0      0      Sutki         Kumar   20000.0\n",
      "10   110.0   11.0    500       Lala          Sign   40000.0\n",
      "11     NaN   12.0    500      Chomu         Gupta   50000.0\n",
      "12   130.0   13.0    500       Moti           Lal  100000.0\n",
      "13   140.0   14.0      0     Ankita  Bhattacharya   29999.0\n",
      "14   150.0   15.0    500     Ankita           Dey   37900.0\n",
      "15   200.0   16.0    500        NaN           Das   20000.0\n",
      "16   170.0   17.0      0        NaN         Gupta       NaN\n",
      "17   180.0   18.0    500    Ankirta        Ghupta   20000.0\n",
      "18   190.0   19.0      0        NaN        Kumari   10000.0\n"
     ]
    }
   ],
   "source": [
    "print(df.tail(10))"
   ]
  },
  {
   "cell_type": "markdown",
   "metadata": {},
   "source": [
    "### Data Info"
   ]
  },
  {
   "cell_type": "code",
   "execution_count": 63,
   "metadata": {},
   "outputs": [
    {
     "name": "stdout",
     "output_type": "stream",
     "text": [
      "<class 'pandas.core.frame.DataFrame'>\n",
      "RangeIndex: 19 entries, 0 to 18\n",
      "Data columns (total 6 columns):\n",
      " #   Column      Non-Null Count  Dtype  \n",
      "---  ------      --------------  -----  \n",
      " 0   DEPTID      17 non-null     float64\n",
      " 1   EMPID       17 non-null     float64\n",
      " 2   BONUS       19 non-null     int64  \n",
      " 3   FIRST Name  16 non-null     object \n",
      " 4   LAST Name   19 non-null     object \n",
      " 5   SALARY      15 non-null     float64\n",
      "dtypes: float64(3), int64(1), object(2)\n",
      "memory usage: 1.0+ KB\n"
     ]
    }
   ],
   "source": [
    "df.info()"
   ]
  },
  {
   "cell_type": "markdown",
   "metadata": {},
   "source": [
    "### Data Describe"
   ]
  },
  {
   "cell_type": "code",
   "execution_count": 64,
   "metadata": {},
   "outputs": [
    {
     "data": {
      "text/html": [
       "<div>\n",
       "<style scoped>\n",
       "    .dataframe tbody tr th:only-of-type {\n",
       "        vertical-align: middle;\n",
       "    }\n",
       "\n",
       "    .dataframe tbody tr th {\n",
       "        vertical-align: top;\n",
       "    }\n",
       "\n",
       "    .dataframe thead th {\n",
       "        text-align: right;\n",
       "    }\n",
       "</style>\n",
       "<table border=\"1\" class=\"dataframe\">\n",
       "  <thead>\n",
       "    <tr style=\"text-align: right;\">\n",
       "      <th></th>\n",
       "      <th>DEPTID</th>\n",
       "      <th>EMPID</th>\n",
       "      <th>BONUS</th>\n",
       "      <th>SALARY</th>\n",
       "    </tr>\n",
       "  </thead>\n",
       "  <tbody>\n",
       "    <tr>\n",
       "      <th>count</th>\n",
       "      <td>17.000000</td>\n",
       "      <td>17.000000</td>\n",
       "      <td>19.000000</td>\n",
       "      <td>15.000000</td>\n",
       "    </tr>\n",
       "    <tr>\n",
       "      <th>mean</th>\n",
       "      <td>101.764706</td>\n",
       "      <td>10.411765</td>\n",
       "      <td>342.105263</td>\n",
       "      <td>29571.466667</td>\n",
       "    </tr>\n",
       "    <tr>\n",
       "      <th>std</th>\n",
       "      <td>62.673289</td>\n",
       "      <td>5.799341</td>\n",
       "      <td>238.783466</td>\n",
       "      <td>23159.201068</td>\n",
       "    </tr>\n",
       "    <tr>\n",
       "      <th>min</th>\n",
       "      <td>10.000000</td>\n",
       "      <td>1.000000</td>\n",
       "      <td>0.000000</td>\n",
       "      <td>10000.000000</td>\n",
       "    </tr>\n",
       "    <tr>\n",
       "      <th>25%</th>\n",
       "      <td>50.000000</td>\n",
       "      <td>6.000000</td>\n",
       "      <td>0.000000</td>\n",
       "      <td>16336.500000</td>\n",
       "    </tr>\n",
       "    <tr>\n",
       "      <th>50%</th>\n",
       "      <td>100.000000</td>\n",
       "      <td>11.000000</td>\n",
       "      <td>500.000000</td>\n",
       "      <td>20000.000000</td>\n",
       "    </tr>\n",
       "    <tr>\n",
       "      <th>75%</th>\n",
       "      <td>150.000000</td>\n",
       "      <td>15.000000</td>\n",
       "      <td>500.000000</td>\n",
       "      <td>38950.000000</td>\n",
       "    </tr>\n",
       "    <tr>\n",
       "      <th>max</th>\n",
       "      <td>200.000000</td>\n",
       "      <td>19.000000</td>\n",
       "      <td>500.000000</td>\n",
       "      <td>100000.000000</td>\n",
       "    </tr>\n",
       "  </tbody>\n",
       "</table>\n",
       "</div>"
      ],
      "text/plain": [
       "           DEPTID      EMPID       BONUS         SALARY\n",
       "count   17.000000  17.000000   19.000000      15.000000\n",
       "mean   101.764706  10.411765  342.105263   29571.466667\n",
       "std     62.673289   5.799341  238.783466   23159.201068\n",
       "min     10.000000   1.000000    0.000000   10000.000000\n",
       "25%     50.000000   6.000000    0.000000   16336.500000\n",
       "50%    100.000000  11.000000  500.000000   20000.000000\n",
       "75%    150.000000  15.000000  500.000000   38950.000000\n",
       "max    200.000000  19.000000  500.000000  100000.000000"
      ]
     },
     "execution_count": 64,
     "metadata": {},
     "output_type": "execute_result"
    }
   ],
   "source": [
    "df.describe()"
   ]
  },
  {
   "cell_type": "code",
   "execution_count": 65,
   "metadata": {},
   "outputs": [
    {
     "data": {
      "text/plain": [
       "DEPTID        2\n",
       "EMPID         2\n",
       "BONUS         0\n",
       "FIRST Name    3\n",
       "LAST Name     0\n",
       "SALARY        4\n",
       "dtype: int64"
      ]
     },
     "execution_count": 65,
     "metadata": {},
     "output_type": "execute_result"
    }
   ],
   "source": [
    "df.isnull().sum()"
   ]
  },
  {
   "cell_type": "markdown",
   "metadata": {},
   "source": [
    "### Duplicated Values"
   ]
  },
  {
   "cell_type": "code",
   "execution_count": 66,
   "metadata": {},
   "outputs": [
    {
     "name": "stdout",
     "output_type": "stream",
     "text": [
      "0     False\n",
      "1      True\n",
      "2     False\n",
      "3     False\n",
      "4     False\n",
      "5     False\n",
      "6     False\n",
      "7     False\n",
      "8     False\n",
      "9     False\n",
      "10    False\n",
      "11    False\n",
      "12     True\n",
      "13    False\n",
      "14     True\n",
      "15    False\n",
      "16     True\n",
      "17    False\n",
      "18     True\n",
      "Name: FIRST Name, dtype: bool\n"
     ]
    }
   ],
   "source": [
    "print(df['FIRST Name'].duplicated())"
   ]
  },
  {
   "cell_type": "markdown",
   "metadata": {},
   "source": [
    "### Removing Duplicated values\n"
   ]
  },
  {
   "cell_type": "code",
   "execution_count": 67,
   "metadata": {},
   "outputs": [
    {
     "name": "stdout",
     "output_type": "stream",
     "text": [
      "    DEPTID  EMPID  BONUS FIRST Name     LAST Name   SALARY\n",
      "0     10.0    1.0      0      Arnab           Dey  10000.0\n",
      "2     30.0    3.0    500   Pratyush           Das  23000.0\n",
      "3     40.0    4.0    500      Pinky         gupta  40000.0\n",
      "4     50.0    NaN      0       Ravi          Kant      NaN\n",
      "5     60.0    6.0    500      Ravee         Gupta  12673.0\n",
      "6     70.0    7.0    500    Raveena       Raveena      NaN\n",
      "7     80.0    NaN    500     Harley        Deavid  10000.0\n",
      "8      NaN    9.0    500       Moti          Sign      NaN\n",
      "9    100.0   10.0      0      Sutki         Kumar  20000.0\n",
      "10   110.0   11.0    500       Lala          Sign  40000.0\n",
      "11     NaN   12.0    500      Chomu         Gupta  50000.0\n",
      "13   140.0   14.0      0     Ankita  Bhattacharya  29999.0\n",
      "15   200.0   16.0    500        NaN           Das  20000.0\n",
      "17   180.0   18.0    500    Ankirta        Ghupta  20000.0\n"
     ]
    }
   ],
   "source": [
    "df_drop=df.drop_duplicates('FIRST Name')\n",
    "print(df_drop)"
   ]
  },
  {
   "cell_type": "code",
   "execution_count": 68,
   "metadata": {},
   "outputs": [],
   "source": [
    "import numpy as np"
   ]
  },
  {
   "cell_type": "code",
   "execution_count": 69,
   "metadata": {},
   "outputs": [
    {
     "name": "stdout",
     "output_type": "stream",
     "text": [
      "0      10000.0\n",
      "1      20000.0\n",
      "2      23000.0\n",
      "3      40000.0\n",
      "4      12000.0\n",
      "5      12673.0\n",
      "6      12000.0\n",
      "7      10000.0\n",
      "8      12000.0\n",
      "9      20000.0\n",
      "10     40000.0\n",
      "11     50000.0\n",
      "12    100000.0\n",
      "13     29999.0\n",
      "14     37900.0\n",
      "15     20000.0\n",
      "16     12000.0\n",
      "17     20000.0\n",
      "18     10000.0\n",
      "Name: SALARY, dtype: float64\n"
     ]
    }
   ],
   "source": [
    "df_salary=df['SALARY'].replace(np.nan,12000)\n",
    "print(df_salary)"
   ]
  },
  {
   "cell_type": "code",
   "execution_count": 70,
   "metadata": {},
   "outputs": [
    {
     "name": "stdout",
     "output_type": "stream",
     "text": [
      "    DEPTID  EMPID  BONUS FIRST Name     LAST Name    SALARY\n",
      "0     10.0    1.0      0      Arnab           Dey   10000.0\n",
      "2     30.0    3.0    500   Pratyush           Das   23000.0\n",
      "3     40.0    4.0    500      Pinky         gupta   40000.0\n",
      "4     50.0    NaN      0       Ravi          Kant       NaN\n",
      "5     60.0    6.0    500      Ravee         Gupta   12673.0\n",
      "6     70.0    7.0    500    Raveena       Raveena       NaN\n",
      "7     80.0    NaN    500     Harley        Deavid   10000.0\n",
      "8      NaN    9.0    500       Moti          Sign       NaN\n",
      "9    100.0   10.0      0      Sutki         Kumar   20000.0\n",
      "12   130.0   13.0    500       Moti           Lal  100000.0\n",
      "13   140.0   14.0      0     Ankita  Bhattacharya   29999.0\n",
      "17   180.0   18.0    500    Ankirta        Ghupta   20000.0\n",
      "18   190.0   19.0      0        NaN        Kumari   10000.0\n"
     ]
    }
   ],
   "source": [
    "df_dups = df.drop_duplicates(\"LAST Name\")\n",
    "print(df_dups)"
   ]
  },
  {
   "cell_type": "code",
   "execution_count": 71,
   "metadata": {},
   "outputs": [
    {
     "name": "stdout",
     "output_type": "stream",
     "text": [
      "    DEPTID  EMPID  BONUS FIRST Name     LAST Name    SALARY\n",
      "0     10.0    1.0      0      Arnab           Dey   10000.0\n",
      "1     20.0    2.0    500      Arnab           Dey   20000.0\n",
      "2     30.0    3.0    500   Pratyush           Das   23000.0\n",
      "3     40.0    4.0    500      Pinky         gupta   40000.0\n",
      "5     60.0    6.0    500      Ravee         Gupta   12673.0\n",
      "9    100.0   10.0      0      Sutki         Kumar   20000.0\n",
      "10   110.0   11.0    500       Lala          Sign   40000.0\n",
      "12   130.0   13.0    500       Moti           Lal  100000.0\n",
      "13   140.0   14.0      0     Ankita  Bhattacharya   29999.0\n",
      "14   150.0   15.0    500     Ankita           Dey   37900.0\n",
      "17   180.0   18.0    500    Ankirta        Ghupta   20000.0\n"
     ]
    }
   ],
   "source": [
    "df_nan = df.dropna()\n",
    "print(df_nan)"
   ]
  },
  {
   "cell_type": "code",
   "execution_count": 72,
   "metadata": {},
   "outputs": [
    {
     "name": "stdout",
     "output_type": "stream",
     "text": [
      "29571.466666666667\n"
     ]
    }
   ],
   "source": [
    "print(df[\"SALARY\"].mean())\n"
   ]
  },
  {
   "cell_type": "code",
   "execution_count": 73,
   "metadata": {},
   "outputs": [
    {
     "name": "stdout",
     "output_type": "stream",
     "text": [
      "    DEPTID  EMPID  BONUS FIRST Name     LAST Name         SALARY\n",
      "0     10.0    1.0      0      Arnab           Dey   10000.000000\n",
      "1     20.0    2.0    500      Arnab           Dey   20000.000000\n",
      "2     30.0    3.0    500   Pratyush           Das   23000.000000\n",
      "3     40.0    4.0    500      Pinky         gupta   40000.000000\n",
      "4     50.0    NaN      0       Ravi          Kant   29571.466667\n",
      "5     60.0    6.0    500      Ravee         Gupta   12673.000000\n",
      "6     70.0    7.0    500    Raveena       Raveena   29571.466667\n",
      "7     80.0    NaN    500     Harley        Deavid   10000.000000\n",
      "8      NaN    9.0    500       Moti          Sign   29571.466667\n",
      "9    100.0   10.0      0      Sutki         Kumar   20000.000000\n",
      "10   110.0   11.0    500       Lala          Sign   40000.000000\n",
      "11     NaN   12.0    500      Chomu         Gupta   50000.000000\n",
      "12   130.0   13.0    500       Moti           Lal  100000.000000\n",
      "13   140.0   14.0      0     Ankita  Bhattacharya   29999.000000\n",
      "14   150.0   15.0    500     Ankita           Dey   37900.000000\n",
      "15   200.0   16.0    500        NaN           Das   20000.000000\n",
      "16   170.0   17.0      0        NaN         Gupta   29571.466667\n",
      "17   180.0   18.0    500    Ankirta        Ghupta   20000.000000\n",
      "18   190.0   19.0      0        NaN        Kumari   10000.000000\n"
     ]
    }
   ],
   "source": [
    "df['SALARY']=df['SALARY'].replace(np.nan,29571.466666666667)\n",
    "print(df)"
   ]
  },
  {
   "cell_type": "code",
   "execution_count": 74,
   "metadata": {},
   "outputs": [
    {
     "name": "stdout",
     "output_type": "stream",
     "text": [
      "29571.466666666667\n"
     ]
    }
   ],
   "source": [
    "print(df[\"SALARY\"].mean())"
   ]
  },
  {
   "cell_type": "code",
   "execution_count": 75,
   "metadata": {},
   "outputs": [
    {
     "name": "stdout",
     "output_type": "stream",
     "text": [
      "    DEPTID  EMPID  BONUS FIRST Name     LAST Name         SALARY\n",
      "0     10.0    1.0      0      Arnab           Dey   10000.000000\n",
      "1     20.0    2.0    500      Arnab           Dey   20000.000000\n",
      "2     30.0    3.0    500   Pratyush           Das   23000.000000\n",
      "3     40.0    4.0    500      Pinky         gupta   40000.000000\n",
      "4     50.0    NaN      0       Ravi          Kant   29571.466667\n",
      "5     60.0    6.0    500      Ravee         Gupta   12673.000000\n",
      "6     70.0    7.0    500    Raveena       Raveena   29571.466667\n",
      "7     80.0    NaN    500     Harley        Deavid   10000.000000\n",
      "8      NaN    9.0    500       Moti          Sign   29571.466667\n",
      "9    100.0   10.0      0      Sutki         Kumar   20000.000000\n",
      "10   110.0   11.0    500       Lala          Sign   40000.000000\n",
      "11     NaN   12.0    500      Chomu         Gupta   50000.000000\n",
      "12   130.0   13.0    500       Moti           Lal  100000.000000\n",
      "13   140.0   14.0      0     Ankita  Bhattacharya   29999.000000\n",
      "14   150.0   15.0    500     Ankita           Dey   37900.000000\n",
      "15   200.0   16.0    500        NaN           Das   20000.000000\n",
      "16   170.0   17.0      0        NaN         Gupta   29571.466667\n",
      "17   180.0   18.0    500    Ankirta        Ghupta   20000.000000\n",
      "18   190.0   19.0      0        NaN        Kumari   10000.000000\n"
     ]
    }
   ],
   "source": [
    "print(df)"
   ]
  },
  {
   "cell_type": "code",
   "execution_count": 76,
   "metadata": {},
   "outputs": [
    {
     "name": "stderr",
     "output_type": "stream",
     "text": [
      "C:\\Users\\evilk\\AppData\\Local\\Temp\\ipykernel_21464\\4194935721.py:1: FutureWarning: DataFrame.fillna with 'method' is deprecated and will raise in a future version. Use obj.ffill() or obj.bfill() instead.\n",
      "  df.fillna(method='bfill')\n"
     ]
    },
    {
     "data": {
      "text/html": [
       "<div>\n",
       "<style scoped>\n",
       "    .dataframe tbody tr th:only-of-type {\n",
       "        vertical-align: middle;\n",
       "    }\n",
       "\n",
       "    .dataframe tbody tr th {\n",
       "        vertical-align: top;\n",
       "    }\n",
       "\n",
       "    .dataframe thead th {\n",
       "        text-align: right;\n",
       "    }\n",
       "</style>\n",
       "<table border=\"1\" class=\"dataframe\">\n",
       "  <thead>\n",
       "    <tr style=\"text-align: right;\">\n",
       "      <th></th>\n",
       "      <th>DEPTID</th>\n",
       "      <th>EMPID</th>\n",
       "      <th>BONUS</th>\n",
       "      <th>FIRST Name</th>\n",
       "      <th>LAST Name</th>\n",
       "      <th>SALARY</th>\n",
       "    </tr>\n",
       "  </thead>\n",
       "  <tbody>\n",
       "    <tr>\n",
       "      <th>0</th>\n",
       "      <td>10.0</td>\n",
       "      <td>1.0</td>\n",
       "      <td>0</td>\n",
       "      <td>Arnab</td>\n",
       "      <td>Dey</td>\n",
       "      <td>10000.000000</td>\n",
       "    </tr>\n",
       "    <tr>\n",
       "      <th>1</th>\n",
       "      <td>20.0</td>\n",
       "      <td>2.0</td>\n",
       "      <td>500</td>\n",
       "      <td>Arnab</td>\n",
       "      <td>Dey</td>\n",
       "      <td>20000.000000</td>\n",
       "    </tr>\n",
       "    <tr>\n",
       "      <th>2</th>\n",
       "      <td>30.0</td>\n",
       "      <td>3.0</td>\n",
       "      <td>500</td>\n",
       "      <td>Pratyush</td>\n",
       "      <td>Das</td>\n",
       "      <td>23000.000000</td>\n",
       "    </tr>\n",
       "    <tr>\n",
       "      <th>3</th>\n",
       "      <td>40.0</td>\n",
       "      <td>4.0</td>\n",
       "      <td>500</td>\n",
       "      <td>Pinky</td>\n",
       "      <td>gupta</td>\n",
       "      <td>40000.000000</td>\n",
       "    </tr>\n",
       "    <tr>\n",
       "      <th>4</th>\n",
       "      <td>50.0</td>\n",
       "      <td>6.0</td>\n",
       "      <td>0</td>\n",
       "      <td>Ravi</td>\n",
       "      <td>Kant</td>\n",
       "      <td>29571.466667</td>\n",
       "    </tr>\n",
       "    <tr>\n",
       "      <th>5</th>\n",
       "      <td>60.0</td>\n",
       "      <td>6.0</td>\n",
       "      <td>500</td>\n",
       "      <td>Ravee</td>\n",
       "      <td>Gupta</td>\n",
       "      <td>12673.000000</td>\n",
       "    </tr>\n",
       "    <tr>\n",
       "      <th>6</th>\n",
       "      <td>70.0</td>\n",
       "      <td>7.0</td>\n",
       "      <td>500</td>\n",
       "      <td>Raveena</td>\n",
       "      <td>Raveena</td>\n",
       "      <td>29571.466667</td>\n",
       "    </tr>\n",
       "    <tr>\n",
       "      <th>7</th>\n",
       "      <td>80.0</td>\n",
       "      <td>9.0</td>\n",
       "      <td>500</td>\n",
       "      <td>Harley</td>\n",
       "      <td>Deavid</td>\n",
       "      <td>10000.000000</td>\n",
       "    </tr>\n",
       "    <tr>\n",
       "      <th>8</th>\n",
       "      <td>100.0</td>\n",
       "      <td>9.0</td>\n",
       "      <td>500</td>\n",
       "      <td>Moti</td>\n",
       "      <td>Sign</td>\n",
       "      <td>29571.466667</td>\n",
       "    </tr>\n",
       "    <tr>\n",
       "      <th>9</th>\n",
       "      <td>100.0</td>\n",
       "      <td>10.0</td>\n",
       "      <td>0</td>\n",
       "      <td>Sutki</td>\n",
       "      <td>Kumar</td>\n",
       "      <td>20000.000000</td>\n",
       "    </tr>\n",
       "    <tr>\n",
       "      <th>10</th>\n",
       "      <td>110.0</td>\n",
       "      <td>11.0</td>\n",
       "      <td>500</td>\n",
       "      <td>Lala</td>\n",
       "      <td>Sign</td>\n",
       "      <td>40000.000000</td>\n",
       "    </tr>\n",
       "    <tr>\n",
       "      <th>11</th>\n",
       "      <td>130.0</td>\n",
       "      <td>12.0</td>\n",
       "      <td>500</td>\n",
       "      <td>Chomu</td>\n",
       "      <td>Gupta</td>\n",
       "      <td>50000.000000</td>\n",
       "    </tr>\n",
       "    <tr>\n",
       "      <th>12</th>\n",
       "      <td>130.0</td>\n",
       "      <td>13.0</td>\n",
       "      <td>500</td>\n",
       "      <td>Moti</td>\n",
       "      <td>Lal</td>\n",
       "      <td>100000.000000</td>\n",
       "    </tr>\n",
       "    <tr>\n",
       "      <th>13</th>\n",
       "      <td>140.0</td>\n",
       "      <td>14.0</td>\n",
       "      <td>0</td>\n",
       "      <td>Ankita</td>\n",
       "      <td>Bhattacharya</td>\n",
       "      <td>29999.000000</td>\n",
       "    </tr>\n",
       "    <tr>\n",
       "      <th>14</th>\n",
       "      <td>150.0</td>\n",
       "      <td>15.0</td>\n",
       "      <td>500</td>\n",
       "      <td>Ankita</td>\n",
       "      <td>Dey</td>\n",
       "      <td>37900.000000</td>\n",
       "    </tr>\n",
       "    <tr>\n",
       "      <th>15</th>\n",
       "      <td>200.0</td>\n",
       "      <td>16.0</td>\n",
       "      <td>500</td>\n",
       "      <td>Ankirta</td>\n",
       "      <td>Das</td>\n",
       "      <td>20000.000000</td>\n",
       "    </tr>\n",
       "    <tr>\n",
       "      <th>16</th>\n",
       "      <td>170.0</td>\n",
       "      <td>17.0</td>\n",
       "      <td>0</td>\n",
       "      <td>Ankirta</td>\n",
       "      <td>Gupta</td>\n",
       "      <td>29571.466667</td>\n",
       "    </tr>\n",
       "    <tr>\n",
       "      <th>17</th>\n",
       "      <td>180.0</td>\n",
       "      <td>18.0</td>\n",
       "      <td>500</td>\n",
       "      <td>Ankirta</td>\n",
       "      <td>Ghupta</td>\n",
       "      <td>20000.000000</td>\n",
       "    </tr>\n",
       "    <tr>\n",
       "      <th>18</th>\n",
       "      <td>190.0</td>\n",
       "      <td>19.0</td>\n",
       "      <td>0</td>\n",
       "      <td>NaN</td>\n",
       "      <td>Kumari</td>\n",
       "      <td>10000.000000</td>\n",
       "    </tr>\n",
       "  </tbody>\n",
       "</table>\n",
       "</div>"
      ],
      "text/plain": [
       "    DEPTID  EMPID  BONUS FIRST Name     LAST Name         SALARY\n",
       "0     10.0    1.0      0      Arnab           Dey   10000.000000\n",
       "1     20.0    2.0    500      Arnab           Dey   20000.000000\n",
       "2     30.0    3.0    500   Pratyush           Das   23000.000000\n",
       "3     40.0    4.0    500      Pinky         gupta   40000.000000\n",
       "4     50.0    6.0      0       Ravi          Kant   29571.466667\n",
       "5     60.0    6.0    500      Ravee         Gupta   12673.000000\n",
       "6     70.0    7.0    500    Raveena       Raveena   29571.466667\n",
       "7     80.0    9.0    500     Harley        Deavid   10000.000000\n",
       "8    100.0    9.0    500       Moti          Sign   29571.466667\n",
       "9    100.0   10.0      0      Sutki         Kumar   20000.000000\n",
       "10   110.0   11.0    500       Lala          Sign   40000.000000\n",
       "11   130.0   12.0    500      Chomu         Gupta   50000.000000\n",
       "12   130.0   13.0    500       Moti           Lal  100000.000000\n",
       "13   140.0   14.0      0     Ankita  Bhattacharya   29999.000000\n",
       "14   150.0   15.0    500     Ankita           Dey   37900.000000\n",
       "15   200.0   16.0    500    Ankirta           Das   20000.000000\n",
       "16   170.0   17.0      0    Ankirta         Gupta   29571.466667\n",
       "17   180.0   18.0    500    Ankirta        Ghupta   20000.000000\n",
       "18   190.0   19.0      0        NaN        Kumari   10000.000000"
      ]
     },
     "execution_count": 76,
     "metadata": {},
     "output_type": "execute_result"
    }
   ],
   "source": [
    "df.fillna(method='bfill')\n"
   ]
  },
  {
   "cell_type": "code",
   "execution_count": null,
   "metadata": {},
   "outputs": [
    {
     "data": {
      "text/html": [
       "<div>\n",
       "<style scoped>\n",
       "    .dataframe tbody tr th:only-of-type {\n",
       "        vertical-align: middle;\n",
       "    }\n",
       "\n",
       "    .dataframe tbody tr th {\n",
       "        vertical-align: top;\n",
       "    }\n",
       "\n",
       "    .dataframe thead th {\n",
       "        text-align: right;\n",
       "    }\n",
       "</style>\n",
       "<table border=\"1\" class=\"dataframe\">\n",
       "  <thead>\n",
       "    <tr style=\"text-align: right;\">\n",
       "      <th></th>\n",
       "      <th>DEPTID</th>\n",
       "      <th>EMPID</th>\n",
       "      <th>BONUS</th>\n",
       "      <th>FIRST Name</th>\n",
       "      <th>LAST Name</th>\n",
       "      <th>SALARY</th>\n",
       "      <th>GETBONUS</th>\n",
       "      <th>FULL NAME</th>\n",
       "    </tr>\n",
       "  </thead>\n",
       "  <tbody>\n",
       "    <tr>\n",
       "      <th>0</th>\n",
       "      <td>10.0</td>\n",
       "      <td>1.0</td>\n",
       "      <td>0</td>\n",
       "      <td>Arnab</td>\n",
       "      <td>Dey</td>\n",
       "      <td>10000.000000</td>\n",
       "      <td>NO BONUS</td>\n",
       "      <td>Arnab Dey</td>\n",
       "    </tr>\n",
       "    <tr>\n",
       "      <th>1</th>\n",
       "      <td>20.0</td>\n",
       "      <td>2.0</td>\n",
       "      <td>500</td>\n",
       "      <td>Arnab</td>\n",
       "      <td>Dey</td>\n",
       "      <td>20000.000000</td>\n",
       "      <td>GET BONUS</td>\n",
       "      <td>Arnab Dey</td>\n",
       "    </tr>\n",
       "    <tr>\n",
       "      <th>2</th>\n",
       "      <td>30.0</td>\n",
       "      <td>3.0</td>\n",
       "      <td>500</td>\n",
       "      <td>Pratyush</td>\n",
       "      <td>Das</td>\n",
       "      <td>23000.000000</td>\n",
       "      <td>GET BONUS</td>\n",
       "      <td>Pratyush Das</td>\n",
       "    </tr>\n",
       "    <tr>\n",
       "      <th>3</th>\n",
       "      <td>40.0</td>\n",
       "      <td>4.0</td>\n",
       "      <td>500</td>\n",
       "      <td>Pinky</td>\n",
       "      <td>gupta</td>\n",
       "      <td>40000.000000</td>\n",
       "      <td>GET BONUS</td>\n",
       "      <td>Pinky gupta</td>\n",
       "    </tr>\n",
       "    <tr>\n",
       "      <th>4</th>\n",
       "      <td>50.0</td>\n",
       "      <td>NaN</td>\n",
       "      <td>0</td>\n",
       "      <td>Ravi</td>\n",
       "      <td>Kant</td>\n",
       "      <td>29571.466667</td>\n",
       "      <td>NO BONUS</td>\n",
       "      <td>Ravi Kant</td>\n",
       "    </tr>\n",
       "    <tr>\n",
       "      <th>5</th>\n",
       "      <td>60.0</td>\n",
       "      <td>6.0</td>\n",
       "      <td>500</td>\n",
       "      <td>Ravee</td>\n",
       "      <td>Gupta</td>\n",
       "      <td>12673.000000</td>\n",
       "      <td>GET BONUS</td>\n",
       "      <td>Ravee Gupta</td>\n",
       "    </tr>\n",
       "    <tr>\n",
       "      <th>6</th>\n",
       "      <td>70.0</td>\n",
       "      <td>7.0</td>\n",
       "      <td>500</td>\n",
       "      <td>Raveena</td>\n",
       "      <td>Raveena</td>\n",
       "      <td>29571.466667</td>\n",
       "      <td>GET BONUS</td>\n",
       "      <td>Raveena Raveena</td>\n",
       "    </tr>\n",
       "    <tr>\n",
       "      <th>7</th>\n",
       "      <td>80.0</td>\n",
       "      <td>NaN</td>\n",
       "      <td>500</td>\n",
       "      <td>Harley</td>\n",
       "      <td>Deavid</td>\n",
       "      <td>10000.000000</td>\n",
       "      <td>GET BONUS</td>\n",
       "      <td>Harley Deavid</td>\n",
       "    </tr>\n",
       "    <tr>\n",
       "      <th>8</th>\n",
       "      <td>NaN</td>\n",
       "      <td>9.0</td>\n",
       "      <td>500</td>\n",
       "      <td>Moti</td>\n",
       "      <td>Sign</td>\n",
       "      <td>29571.466667</td>\n",
       "      <td>GET BONUS</td>\n",
       "      <td>Moti Sign</td>\n",
       "    </tr>\n",
       "    <tr>\n",
       "      <th>9</th>\n",
       "      <td>100.0</td>\n",
       "      <td>10.0</td>\n",
       "      <td>0</td>\n",
       "      <td>Sutki</td>\n",
       "      <td>Kumar</td>\n",
       "      <td>20000.000000</td>\n",
       "      <td>NO BONUS</td>\n",
       "      <td>Sutki Kumar</td>\n",
       "    </tr>\n",
       "    <tr>\n",
       "      <th>10</th>\n",
       "      <td>110.0</td>\n",
       "      <td>11.0</td>\n",
       "      <td>500</td>\n",
       "      <td>Lala</td>\n",
       "      <td>Sign</td>\n",
       "      <td>40000.000000</td>\n",
       "      <td>GET BONUS</td>\n",
       "      <td>Lala Sign</td>\n",
       "    </tr>\n",
       "    <tr>\n",
       "      <th>11</th>\n",
       "      <td>NaN</td>\n",
       "      <td>12.0</td>\n",
       "      <td>500</td>\n",
       "      <td>Chomu</td>\n",
       "      <td>Gupta</td>\n",
       "      <td>50000.000000</td>\n",
       "      <td>GET BONUS</td>\n",
       "      <td>Chomu Gupta</td>\n",
       "    </tr>\n",
       "    <tr>\n",
       "      <th>12</th>\n",
       "      <td>130.0</td>\n",
       "      <td>13.0</td>\n",
       "      <td>500</td>\n",
       "      <td>Moti</td>\n",
       "      <td>Lal</td>\n",
       "      <td>100000.000000</td>\n",
       "      <td>GET BONUS</td>\n",
       "      <td>Moti Lal</td>\n",
       "    </tr>\n",
       "    <tr>\n",
       "      <th>13</th>\n",
       "      <td>140.0</td>\n",
       "      <td>14.0</td>\n",
       "      <td>0</td>\n",
       "      <td>Ankita</td>\n",
       "      <td>Bhattacharya</td>\n",
       "      <td>29999.000000</td>\n",
       "      <td>NO BONUS</td>\n",
       "      <td>Ankita Bhattacharya</td>\n",
       "    </tr>\n",
       "    <tr>\n",
       "      <th>14</th>\n",
       "      <td>150.0</td>\n",
       "      <td>15.0</td>\n",
       "      <td>500</td>\n",
       "      <td>Ankita</td>\n",
       "      <td>Dey</td>\n",
       "      <td>37900.000000</td>\n",
       "      <td>GET BONUS</td>\n",
       "      <td>Ankita Dey</td>\n",
       "    </tr>\n",
       "    <tr>\n",
       "      <th>15</th>\n",
       "      <td>200.0</td>\n",
       "      <td>16.0</td>\n",
       "      <td>500</td>\n",
       "      <td>NaN</td>\n",
       "      <td>Das</td>\n",
       "      <td>20000.000000</td>\n",
       "      <td>GET BONUS</td>\n",
       "      <td>NaN</td>\n",
       "    </tr>\n",
       "    <tr>\n",
       "      <th>16</th>\n",
       "      <td>170.0</td>\n",
       "      <td>17.0</td>\n",
       "      <td>0</td>\n",
       "      <td>NaN</td>\n",
       "      <td>Gupta</td>\n",
       "      <td>29571.466667</td>\n",
       "      <td>NO BONUS</td>\n",
       "      <td>NaN</td>\n",
       "    </tr>\n",
       "    <tr>\n",
       "      <th>17</th>\n",
       "      <td>180.0</td>\n",
       "      <td>18.0</td>\n",
       "      <td>500</td>\n",
       "      <td>Ankirta</td>\n",
       "      <td>Ghupta</td>\n",
       "      <td>20000.000000</td>\n",
       "      <td>GET BONUS</td>\n",
       "      <td>Ankirta Ghupta</td>\n",
       "    </tr>\n",
       "    <tr>\n",
       "      <th>18</th>\n",
       "      <td>190.0</td>\n",
       "      <td>19.0</td>\n",
       "      <td>0</td>\n",
       "      <td>NaN</td>\n",
       "      <td>Kumari</td>\n",
       "      <td>10000.000000</td>\n",
       "      <td>NO BONUS</td>\n",
       "      <td>NaN</td>\n",
       "    </tr>\n",
       "  </tbody>\n",
       "</table>\n",
       "</div>"
      ],
      "text/plain": [
       "    DEPTID  EMPID  BONUS FIRST Name     LAST Name         SALARY   GETBONUS  \\\n",
       "0     10.0    1.0      0      Arnab           Dey   10000.000000   NO BONUS   \n",
       "1     20.0    2.0    500      Arnab           Dey   20000.000000  GET BONUS   \n",
       "2     30.0    3.0    500   Pratyush           Das   23000.000000  GET BONUS   \n",
       "3     40.0    4.0    500      Pinky         gupta   40000.000000  GET BONUS   \n",
       "4     50.0    NaN      0       Ravi          Kant   29571.466667   NO BONUS   \n",
       "5     60.0    6.0    500      Ravee         Gupta   12673.000000  GET BONUS   \n",
       "6     70.0    7.0    500    Raveena       Raveena   29571.466667  GET BONUS   \n",
       "7     80.0    NaN    500     Harley        Deavid   10000.000000  GET BONUS   \n",
       "8      NaN    9.0    500       Moti          Sign   29571.466667  GET BONUS   \n",
       "9    100.0   10.0      0      Sutki         Kumar   20000.000000   NO BONUS   \n",
       "10   110.0   11.0    500       Lala          Sign   40000.000000  GET BONUS   \n",
       "11     NaN   12.0    500      Chomu         Gupta   50000.000000  GET BONUS   \n",
       "12   130.0   13.0    500       Moti           Lal  100000.000000  GET BONUS   \n",
       "13   140.0   14.0      0     Ankita  Bhattacharya   29999.000000   NO BONUS   \n",
       "14   150.0   15.0    500     Ankita           Dey   37900.000000  GET BONUS   \n",
       "15   200.0   16.0    500        NaN           Das   20000.000000  GET BONUS   \n",
       "16   170.0   17.0      0        NaN         Gupta   29571.466667   NO BONUS   \n",
       "17   180.0   18.0    500    Ankirta        Ghupta   20000.000000  GET BONUS   \n",
       "18   190.0   19.0      0        NaN        Kumari   10000.000000   NO BONUS   \n",
       "\n",
       "              FULL NAME  \n",
       "0             Arnab Dey  \n",
       "1             Arnab Dey  \n",
       "2          Pratyush Das  \n",
       "3           Pinky gupta  \n",
       "4             Ravi Kant  \n",
       "5           Ravee Gupta  \n",
       "6       Raveena Raveena  \n",
       "7         Harley Deavid  \n",
       "8             Moti Sign  \n",
       "9           Sutki Kumar  \n",
       "10            Lala Sign  \n",
       "11          Chomu Gupta  \n",
       "12             Moti Lal  \n",
       "13  Ankita Bhattacharya  \n",
       "14           Ankita Dey  \n",
       "15                  NaN  \n",
       "16                  NaN  \n",
       "17       Ankirta Ghupta  \n",
       "18                  NaN  "
      ]
     },
     "execution_count": 88,
     "metadata": {},
     "output_type": "execute_result"
    }
   ],
   "source": [
    "df.loc[df['BONUS']==0,'GETBONUS']='NO BONUS'\n",
    "df.loc[df['BONUS']>0,'GETBONUS']='GET BONUS'\n",
    "df"
   ]
  },
  {
   "cell_type": "code",
   "execution_count": 94,
   "metadata": {},
   "outputs": [
    {
     "name": "stdout",
     "output_type": "stream",
     "text": [
      "0               Arnab Dey\n",
      "1               Arnab Dey\n",
      "2            Pratyush Das\n",
      "3             Pinky Gupta\n",
      "4               Ravi Kant\n",
      "5             Ravee Gupta\n",
      "6         Raveena Raveena\n",
      "7           Harley Deavid\n",
      "8               Moti Sign\n",
      "9             Sutki Kumar\n",
      "10              Lala Sign\n",
      "11            Chomu Gupta\n",
      "12               Moti Lal\n",
      "13    Ankita Bhattacharya\n",
      "14             Ankita Dey\n",
      "15                    NaN\n",
      "16                    NaN\n",
      "17         Ankirta Ghupta\n",
      "18                    NaN\n",
      "Name: FULL NAME, dtype: object\n"
     ]
    }
   ],
   "source": [
    "df['FULL NAME']=df[\"FIRST Name\"].str.capitalize() +\" \"+df['LAST Name'].str.capitalize()\n",
    "print(df['FULL NAME'])\n"
   ]
  },
  {
   "cell_type": "code",
   "execution_count": 95,
   "metadata": {},
   "outputs": [
    {
     "name": "stdout",
     "output_type": "stream",
     "text": [
      "    DEPTID  EMPID  BONUS FIRST Name     LAST Name         SALARY   GETBONUS  \\\n",
      "0     10.0    1.0      0      Arnab           Dey   10000.000000   NO BONUS   \n",
      "1     20.0    2.0    500      Arnab           Dey   20000.000000  GET BONUS   \n",
      "2     30.0    3.0    500   Pratyush           Das   23000.000000  GET BONUS   \n",
      "3     40.0    4.0    500      Pinky         gupta   40000.000000  GET BONUS   \n",
      "4     50.0    NaN      0       Ravi          Kant   29571.466667   NO BONUS   \n",
      "5     60.0    6.0    500      Ravee         Gupta   12673.000000  GET BONUS   \n",
      "6     70.0    7.0    500    Raveena       Raveena   29571.466667  GET BONUS   \n",
      "7     80.0    NaN    500     Harley        Deavid   10000.000000  GET BONUS   \n",
      "8      NaN    9.0    500       Moti          Sign   29571.466667  GET BONUS   \n",
      "9    100.0   10.0      0      Sutki         Kumar   20000.000000   NO BONUS   \n",
      "10   110.0   11.0    500       Lala          Sign   40000.000000  GET BONUS   \n",
      "11     NaN   12.0    500      Chomu         Gupta   50000.000000  GET BONUS   \n",
      "12   130.0   13.0    500       Moti           Lal  100000.000000  GET BONUS   \n",
      "13   140.0   14.0      0     Ankita  Bhattacharya   29999.000000   NO BONUS   \n",
      "14   150.0   15.0    500     Ankita           Dey   37900.000000  GET BONUS   \n",
      "15   200.0   16.0    500        NaN           Das   20000.000000  GET BONUS   \n",
      "16   170.0   17.0      0        NaN         Gupta   29571.466667   NO BONUS   \n",
      "17   180.0   18.0    500    Ankirta        Ghupta   20000.000000  GET BONUS   \n",
      "18   190.0   19.0      0        NaN        Kumari   10000.000000   NO BONUS   \n",
      "\n",
      "              FULL NAME        BONUS%  \n",
      "0             Arnab Dey   2000.000000  \n",
      "1             Arnab Dey   4000.000000  \n",
      "2          Pratyush Das   4600.000000  \n",
      "3           Pinky Gupta   8000.000000  \n",
      "4             Ravi Kant   5914.293333  \n",
      "5           Ravee Gupta   2534.600000  \n",
      "6       Raveena Raveena   5914.293333  \n",
      "7         Harley Deavid   2000.000000  \n",
      "8             Moti Sign   5914.293333  \n",
      "9           Sutki Kumar   4000.000000  \n",
      "10            Lala Sign   8000.000000  \n",
      "11          Chomu Gupta  10000.000000  \n",
      "12             Moti Lal  20000.000000  \n",
      "13  Ankita Bhattacharya   5999.800000  \n",
      "14           Ankita Dey   7580.000000  \n",
      "15                  NaN   4000.000000  \n",
      "16                  NaN   5914.293333  \n",
      "17       Ankirta Ghupta   4000.000000  \n",
      "18                  NaN   2000.000000  \n"
     ]
    }
   ],
   "source": [
    "df['BONUS%']=(df['SALARY']/100)*20\n",
    "print(df)"
   ]
  },
  {
   "cell_type": "code",
   "execution_count": 97,
   "metadata": {},
   "outputs": [
    {
     "data": {
      "text/plain": [
       "a    1\n",
       "b    2\n",
       "c    3\n",
       "d    4\n",
       "e    5\n",
       "f    6\n",
       "dtype: int64"
      ]
     },
     "execution_count": 97,
     "metadata": {},
     "output_type": "execute_result"
    }
   ],
   "source": [
    "s=pd.Series([1,2,3,4,5,6],index=['a','b','c','d','e','f'])\n",
    "s"
   ]
  },
  {
   "cell_type": "code",
   "execution_count": null,
   "metadata": {},
   "outputs": [],
   "source": []
  }
 ],
 "metadata": {
  "kernelspec": {
   "display_name": ".venv",
   "language": "python",
   "name": "python3"
  },
  "language_info": {
   "codemirror_mode": {
    "name": "ipython",
    "version": 3
   },
   "file_extension": ".py",
   "mimetype": "text/x-python",
   "name": "python",
   "nbconvert_exporter": "python",
   "pygments_lexer": "ipython3",
   "version": "3.13.0"
  }
 },
 "nbformat": 4,
 "nbformat_minor": 4
}
