{
 "cells": [
  {
   "cell_type": "markdown",
   "metadata": {},
   "source": [
    "### 6️⃣ Ek DataFrame banao jisme Name, Age, City columns ho aur 5 rows ho.\n"
   ]
  },
  {
   "cell_type": "code",
   "execution_count": 25,
   "metadata": {},
   "outputs": [],
   "source": [
    "import pandas as pd"
   ]
  },
  {
   "cell_type": "code",
   "execution_count": 26,
   "metadata": {},
   "outputs": [
    {
     "name": "stdout",
     "output_type": "stream",
     "text": [
      "  Name  Age     City\n",
      "0  abc   12   Kolata\n",
      "1  efg   34    Delhi\n",
      "2  ijk   53   Mumbai\n",
      "3  lmn   13  Chennai\n",
      "4  opq   14    Bihar\n"
     ]
    }
   ],
   "source": [
    "data ={\n",
    "        \"Name\":[\"abc\",\"efg\",\"ijk\",\"lmn\",\"opq\"],\n",
    "        \"Age\":[12,34,53,13,14],\n",
    "        \"City\":[\"Kolata\",\"Delhi\",\"Mumbai\",\"Chennai\",\"Bihar\"]\n",
    "}\n",
    "df=pd.DataFrame(data)\n",
    "print(df)"
   ]
  },
  {
   "cell_type": "markdown",
   "metadata": {},
   "source": [
    "### 7️⃣ read_csv() ka use karke kisi CSV file ko load karo."
   ]
  },
  {
   "cell_type": "code",
   "execution_count": 27,
   "metadata": {},
   "outputs": [
    {
     "name": "stdout",
     "output_type": "stream",
     "text": [
      "       Year Industry_aggregation_NZSIOC Industry_code_NZSIOC  \\\n",
      "0      2023                     Level 1                99999   \n",
      "1      2023                     Level 1                99999   \n",
      "2      2023                     Level 1                99999   \n",
      "3      2023                     Level 1                99999   \n",
      "4      2023                     Level 1                99999   \n",
      "...     ...                         ...                  ...   \n",
      "50980  2013                     Level 3                 ZZ11   \n",
      "50981  2013                     Level 3                 ZZ11   \n",
      "50982  2013                     Level 3                 ZZ11   \n",
      "50983  2013                     Level 3                 ZZ11   \n",
      "50984  2013                     Level 3                 ZZ11   \n",
      "\n",
      "             Industry_name_NZSIOC               Units Variable_code  \\\n",
      "0                  All industries  Dollars (millions)           H01   \n",
      "1                  All industries  Dollars (millions)           H04   \n",
      "2                  All industries  Dollars (millions)           H05   \n",
      "3                  All industries  Dollars (millions)           H07   \n",
      "4                  All industries  Dollars (millions)           H08   \n",
      "...                           ...                 ...           ...   \n",
      "50980  Food product manufacturing          Percentage           H37   \n",
      "50981  Food product manufacturing          Percentage           H38   \n",
      "50982  Food product manufacturing          Percentage           H39   \n",
      "50983  Food product manufacturing          Percentage           H40   \n",
      "50984  Food product manufacturing          Percentage           H41   \n",
      "\n",
      "                                         Variable_name      Variable_category  \\\n",
      "0                                         Total income  Financial performance   \n",
      "1      Sales, government funding, grants and subsidies  Financial performance   \n",
      "2                    Interest, dividends and donations  Financial performance   \n",
      "3                                 Non-operating income  Financial performance   \n",
      "4                                    Total expenditure  Financial performance   \n",
      "...                                                ...                    ...   \n",
      "50980                                      Quick ratio       Financial ratios   \n",
      "50981              Margin on sales of goods for resale       Financial ratios   \n",
      "50982                                 Return on equity       Financial ratios   \n",
      "50983                           Return on total assets       Financial ratios   \n",
      "50984                            Liabilities structure       Financial ratios   \n",
      "\n",
      "        Value                             Industry_code_ANZSIC06  \n",
      "0      930995  ANZSIC06 divisions A-S (excluding classes K633...  \n",
      "1      821630  ANZSIC06 divisions A-S (excluding classes K633...  \n",
      "2       84354  ANZSIC06 divisions A-S (excluding classes K633...  \n",
      "3       25010  ANZSIC06 divisions A-S (excluding classes K633...  \n",
      "4      832964  ANZSIC06 divisions A-S (excluding classes K633...  \n",
      "...       ...                                                ...  \n",
      "50980      52  ANZSIC06 groups C111, C112, C113, C114, C115, ...  \n",
      "50981      40  ANZSIC06 groups C111, C112, C113, C114, C115, ...  \n",
      "50982      12  ANZSIC06 groups C111, C112, C113, C114, C115, ...  \n",
      "50983       5  ANZSIC06 groups C111, C112, C113, C114, C115, ...  \n",
      "50984      46  ANZSIC06 groups C111, C112, C113, C114, C115, ...  \n",
      "\n",
      "[50985 rows x 10 columns]\n"
     ]
    }
   ],
   "source": [
    "CSV=pd.read_csv(r\"C:\\Users\\evilk\\Downloads\\annual-enterprise-survey-2023-financial-year-provisional.csv\")\n",
    "print(CSV)"
   ]
  },
  {
   "cell_type": "markdown",
   "metadata": {},
   "source": [
    "### 8️⃣ df.info() aur df.describe() ka use karke dataset ka overview dekho."
   ]
  },
  {
   "cell_type": "code",
   "execution_count": 28,
   "metadata": {},
   "outputs": [
    {
     "name": "stdout",
     "output_type": "stream",
     "text": [
      "<class 'pandas.core.frame.DataFrame'>\n",
      "RangeIndex: 50985 entries, 0 to 50984\n",
      "Data columns (total 10 columns):\n",
      " #   Column                       Non-Null Count  Dtype \n",
      "---  ------                       --------------  ----- \n",
      " 0   Year                         50985 non-null  int64 \n",
      " 1   Industry_aggregation_NZSIOC  50985 non-null  object\n",
      " 2   Industry_code_NZSIOC         50985 non-null  object\n",
      " 3   Industry_name_NZSIOC         50985 non-null  object\n",
      " 4   Units                        50985 non-null  object\n",
      " 5   Variable_code                50985 non-null  object\n",
      " 6   Variable_name                50985 non-null  object\n",
      " 7   Variable_category            50985 non-null  object\n",
      " 8   Value                        50985 non-null  object\n",
      " 9   Industry_code_ANZSIC06       50985 non-null  object\n",
      "dtypes: int64(1), object(9)\n",
      "memory usage: 3.9+ MB\n",
      "None\n"
     ]
    }
   ],
   "source": [
    "print(CSV.info())"
   ]
  },
  {
   "cell_type": "code",
   "execution_count": 29,
   "metadata": {},
   "outputs": [
    {
     "name": "stdout",
     "output_type": "stream",
     "text": [
      "               Year\n",
      "count  50985.000000\n",
      "mean    2018.000000\n",
      "std        3.162309\n",
      "min     2013.000000\n",
      "25%     2015.000000\n",
      "50%     2018.000000\n",
      "75%     2021.000000\n",
      "max     2023.000000\n"
     ]
    }
   ],
   "source": [
    "print(CSV.describe())"
   ]
  },
  {
   "cell_type": "markdown",
   "metadata": {},
   "source": [
    "### 9️⃣ DataFrame me kisi specific column ko extract karo."
   ]
  },
  {
   "cell_type": "code",
   "execution_count": 30,
   "metadata": {},
   "outputs": [
    {
     "name": "stdout",
     "output_type": "stream",
     "text": [
      "0    abc\n",
      "1    efg\n",
      "2    ijk\n",
      "3    lmn\n",
      "4    opq\n",
      "Name: Name, dtype: object\n",
      "0    12\n",
      "1    34\n",
      "2    53\n",
      "3    13\n",
      "4    14\n",
      "Name: Age, dtype: int64\n"
     ]
    }
   ],
   "source": [
    "print(df[\"Name\"])\n",
    "print(df[\"Age\"])"
   ]
  },
  {
   "cell_type": "markdown",
   "metadata": {},
   "source": [
    "### 🔟 iloc aur loc ka use karke specific rows aur columns access karo."
   ]
  },
  {
   "cell_type": "code",
   "execution_count": 40,
   "metadata": {},
   "outputs": [
    {
     "name": "stdout",
     "output_type": "stream",
     "text": [
      "34\n",
      "Name      efg\n",
      "Age        34\n",
      "City    Delhi\n",
      "Name: b, dtype: object\n"
     ]
    }
   ],
   "source": [
    "df=pd.DataFrame(data,index=['a','b','c','d','e'])\n",
    "print(df.loc['b','Age'])\n",
    "print(df.iloc[1])"
   ]
  },
  {
   "cell_type": "code",
   "execution_count": null,
   "metadata": {},
   "outputs": [],
   "source": []
  }
 ],
 "metadata": {
  "kernelspec": {
   "display_name": ".venv",
   "language": "python",
   "name": "python3"
  },
  "language_info": {
   "codemirror_mode": {
    "name": "ipython",
    "version": 3
   },
   "file_extension": ".py",
   "mimetype": "text/x-python",
   "name": "python",
   "nbconvert_exporter": "python",
   "pygments_lexer": "ipython3",
   "version": "3.13.0"
  }
 },
 "nbformat": 4,
 "nbformat_minor": 2
}
