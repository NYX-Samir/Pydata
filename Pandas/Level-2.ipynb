{
 "cells": [
  {
   "cell_type": "markdown",
   "metadata": {},
   "source": [
    "### 6️⃣ dropna() ka use karke missing values remove karo."
   ]
  },
  {
   "cell_type": "code",
   "execution_count": 57,
   "metadata": {},
   "outputs": [],
   "source": [
    "import pandas as pd"
   ]
  },
  {
   "cell_type": "code",
   "execution_count": 66,
   "metadata": {},
   "outputs": [
    {
     "name": "stdout",
     "output_type": "stream",
     "text": [
      "    Name   Age     City\n",
      "0   Amit  25.0    Delhi\n",
      "1   Riya   NaN   Mumbai\n",
      "2  Sohan  30.0  Kolkata\n",
      "3   Neha  28.0      NaN\n",
      "4    NaN  22.0  Chennai\n"
     ]
    }
   ],
   "source": [
    "df = pd.read_excel(r\"C:\\Users\\evilk\\Downloads\\sample_missing_values.xlsx\")\n",
    "print(df)"
   ]
  },
  {
   "cell_type": "code",
   "execution_count": 64,
   "metadata": {},
   "outputs": [
    {
     "name": "stdout",
     "output_type": "stream",
     "text": [
      "    Name   Age     City\n",
      "0   Amit  25.0    Delhi\n",
      "2  Sohan  30.0  Kolkata\n",
      "26.25\n"
     ]
    }
   ],
   "source": [
    "print(df.dropna())\n",
    "print(df['Age'].mean())\n"
   ]
  },
  {
   "cell_type": "markdown",
   "metadata": {},
   "source": [
    "### 7️⃣ fillna() ka use karke missing values ko mean se replace karo."
   ]
  },
  {
   "cell_type": "code",
   "execution_count": 67,
   "metadata": {},
   "outputs": [
    {
     "name": "stdout",
     "output_type": "stream",
     "text": [
      "    Name    Age     City\n",
      "0   Amit  25.00    Delhi\n",
      "1   Riya  26.25   Mumbai\n",
      "2  Sohan  30.00  Kolkata\n",
      "3   Neha  28.00      NaN\n",
      "4    NaN  22.00  Chennai\n"
     ]
    }
   ],
   "source": [
    "df['Age']=df['Age'].fillna(df['Age'].mean())\n",
    "print(df)"
   ]
  },
  {
   "cell_type": "markdown",
   "metadata": {},
   "source": [
    "### 8️⃣ DataFrame me kisi column ka data type change karo (int → float).\n"
   ]
  },
  {
   "cell_type": "code",
   "execution_count": 69,
   "metadata": {},
   "outputs": [
    {
     "name": "stdout",
     "output_type": "stream",
     "text": [
      "    Name  Age     City\n",
      "0   Amit   25    Delhi\n",
      "1   Riya   26   Mumbai\n",
      "2  Sohan   30  Kolkata\n",
      "3   Neha   28      NaN\n",
      "4    NaN   22  Chennai\n"
     ]
    }
   ],
   "source": [
    "df['Age']=df[\"Age\"].astype(int)\n",
    "print(df)"
   ]
  },
  {
   "cell_type": "markdown",
   "metadata": {},
   "source": [
    "### Kisi numerical column pe sorting apply karo (ascending=False)."
   ]
  },
  {
   "cell_type": "code",
   "execution_count": 83,
   "metadata": {},
   "outputs": [
    {
     "name": "stdout",
     "output_type": "stream",
     "text": [
      "    Name  Age     City\n",
      "4    NaN   22  Chennai\n",
      "0   Amit   25    Delhi\n",
      "1   Riya   26   Mumbai\n",
      "3   Neha   28      NaN\n",
      "2  Sohan   30  Kolkata\n",
      "--------------\n",
      "    Name  Age     City\n",
      "2  Sohan   30  Kolkata\n",
      "3   Neha   28      NaN\n",
      "1   Riya   26   Mumbai\n",
      "0   Amit   25    Delhi\n",
      "4    NaN   22  Chennai\n"
     ]
    }
   ],
   "source": [
    "df_sorted=df.sort_values(by=\"Age\",ascending=True)\n",
    "print(df_sorted)\n",
    "print(\"--------------\")\n",
    "df_sorted=df.sort_values(by=\"Age\",ascending=False)\n",
    "print(df_sorted)\n"
   ]
  },
  {
   "cell_type": "markdown",
   "metadata": {},
   "source": [
    "### 5️⃣ groupby() ka use karke kisi categorical column pe analysis karo."
   ]
  },
  {
   "cell_type": "code",
   "execution_count": 84,
   "metadata": {},
   "outputs": [
    {
     "name": "stdout",
     "output_type": "stream",
     "text": [
      "    Order ID     Category  Sales  Quantity       City\n",
      "0       1001  Electronics    500         2      Delhi\n",
      "1       1002     Clothing    200         5     Mumbai\n",
      "2       1003    Furniture    750         3  Bangalore\n",
      "3       1004  Electronics    600         1    Chennai\n",
      "4       1005     Clothing    250         4    Kolkata\n",
      "5       1006  Electronics    520         2      Delhi\n",
      "6       1007     Clothing    180         6     Mumbai\n",
      "7       1008    Furniture    710         3  Bangalore\n",
      "8       1009  Electronics    630         2    Chennai\n",
      "9       1010     Clothing    270         5    Kolkata\n",
      "10      1011  Electronics    540         3      Delhi\n",
      "11      1012     Clothing    190         7     Mumbai\n",
      "12      1013    Furniture    730         2  Bangalore\n",
      "13      1014  Electronics    620         1    Chennai\n",
      "14      1015     Clothing    260         4    Kolkata\n",
      "15      1016  Electronics    510         2      Delhi\n",
      "16      1017     Clothing    210         6     Mumbai\n",
      "17      1018    Furniture    740         3  Bangalore\n",
      "18      1019  Electronics    610         2    Chennai\n",
      "19      1020     Clothing    280         5    Kolkata\n"
     ]
    }
   ],
   "source": [
    "grp=pd.read_excel(r\"C:\\Users\\evilk\\Downloads\\sample_sales_data.xlsx\")\n",
    "print(grp)"
   ]
  },
  {
   "cell_type": "code",
   "execution_count": 100,
   "metadata": {},
   "outputs": [
    {
     "name": "stdout",
     "output_type": "stream",
     "text": [
      "             City\n",
      "Category         \n",
      "Clothing        8\n",
      "Electronics     8\n",
      "Furniture       4\n"
     ]
    }
   ],
   "source": [
    "grp1=grp.groupby(\"Category\").agg({'City':'count'})\n",
    "print(grp1)"
   ]
  },
  {
   "cell_type": "code",
   "execution_count": 99,
   "metadata": {},
   "outputs": [
    {
     "name": "stdout",
     "output_type": "stream",
     "text": [
      "                       Sales\n",
      "Category    City            \n",
      "Clothing    Kolkata      280\n",
      "            Mumbai       210\n",
      "Electronics Chennai      630\n",
      "            Delhi        540\n",
      "Furniture   Bangalore    750\n"
     ]
    }
   ],
   "source": [
    "grp2=grp.groupby([\"Category\",\"City\"]).agg({'Sales':'max'})\n",
    "print(grp2)"
   ]
  },
  {
   "cell_type": "code",
   "execution_count": null,
   "metadata": {},
   "outputs": [],
   "source": []
  }
 ],
 "metadata": {
  "kernelspec": {
   "display_name": ".venv",
   "language": "python",
   "name": "python3"
  },
  "language_info": {
   "codemirror_mode": {
    "name": "ipython",
    "version": 3
   },
   "file_extension": ".py",
   "mimetype": "text/x-python",
   "name": "python",
   "nbconvert_exporter": "python",
   "pygments_lexer": "ipython3",
   "version": "3.13.0rc3"
  }
 },
 "nbformat": 4,
 "nbformat_minor": 2
}
