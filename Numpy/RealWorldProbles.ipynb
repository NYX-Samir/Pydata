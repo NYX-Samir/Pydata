{
 "cells": [
  {
   "cell_type": "code",
   "execution_count": 1,
   "metadata": {},
   "outputs": [],
   "source": [
    "import numpy as np"
   ]
  },
  {
   "cell_type": "markdown",
   "metadata": {},
   "source": [
    "### Sales Data:\n",
    " [[120 150  90  75 200 180]\n",
    "  [130 160 100  85 195 175]\n",
    "  [140 155 110  95 210 190]\n",
    "  [125 165 105  80 205 185]\n",
    "  [135 170 115  90 220 195]\n",
    "  [145 175 120  85 225 200]\n",
    "  [150 180 125 100 230 205]\n",
    "  [155 185 130 105 240 210]\n",
    "  [160 190 135 110 250 215]\n",
    "  [165 195 140 115 260 220]]\n"
   ]
  },
  {
   "cell_type": "code",
   "execution_count": 4,
   "metadata": {},
   "outputs": [
    {
     "name": "stdout",
     "output_type": "stream",
     "text": [
      "[[  1 120 150  90  75 200 180]\n",
      " [  2 130 160 100  85 195 175]\n",
      " [  3 140 155 110  95 210 190]\n",
      " [  4 125 165 105  80 205 185]\n",
      " [  5 135 170 115  90 220 195]\n",
      " [  6 145 175 120  85 225 200]\n",
      " [  7 150 180 125 100 230 205]\n",
      " [  8 155 185 130 105 240 210]\n",
      " [  9 160 190 135 110 250 215]\n",
      " [ 10 165 195 140 115 260 220]]\n"
     ]
    }
   ],
   "source": [
    "Sales_Data=np.array([[1,120 ,150 , 90 , 75 ,200 ,180],\n",
    "                    [2,130 ,160 ,100 , 85 ,195, 175],\n",
    "                    [3,140 ,155, 110 , 95 ,210 ,190],\n",
    "                    [4,125 ,165, 105 , 80 ,205, 185],\n",
    "                    [5,135 ,170 ,115  ,90 ,220 ,195],\n",
    "                    [6,145 ,175 ,120 , 85 ,225, 200],\n",
    "                    [7,150 ,180, 125, 100 ,230, 205],\n",
    "                    [8,155 ,185 ,130, 105, 240, 210],\n",
    "                    [9,160 ,190, 135 ,110 ,250, 215],\n",
    "                    [10,165, 195 ,140, 115, 260, 220]])\n",
    "print(Sales_Data)\n"
   ]
  },
  {
   "cell_type": "markdown",
   "metadata": {},
   "source": [
    "### Total Sales Per Year"
   ]
  },
  {
   "cell_type": "code",
   "execution_count": 6,
   "metadata": {},
   "outputs": [
    {
     "name": "stdout",
     "output_type": "stream",
     "text": [
      "[1425 1725 1170  940 2235 1975]\n",
      "[ 815  845  900  865  925  950  990 1025 1060 1095]\n"
     ]
    }
   ],
   "source": [
    "Yearly_sales=np.sum(Sales_Data[:,1:],axis=0)\n",
    "print(Yearly_sales)\n",
    "Yearly_sales=np.sum(Sales_Data[:,1:],axis=1)\n",
    "print(Yearly_sales)"
   ]
  },
  {
   "cell_type": "code",
   "execution_count": null,
   "metadata": {},
   "outputs": [],
   "source": []
  }
 ],
 "metadata": {
  "kernelspec": {
   "display_name": "myenv",
   "language": "python",
   "name": "python3"
  },
  "language_info": {
   "codemirror_mode": {
    "name": "ipython",
    "version": 3
   },
   "file_extension": ".py",
   "mimetype": "text/x-python",
   "name": "python",
   "nbconvert_exporter": "python",
   "pygments_lexer": "ipython3",
   "version": "3.13.0"
  }
 },
 "nbformat": 4,
 "nbformat_minor": 2
}
