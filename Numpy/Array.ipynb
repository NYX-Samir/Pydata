{
 "cells": [
  {
   "cell_type": "markdown",
   "metadata": {},
   "source": [
    "### Array with Numpy"
   ]
  },
  {
   "cell_type": "code",
   "execution_count": 55,
   "metadata": {},
   "outputs": [],
   "source": [
    "import numpy as np"
   ]
  },
  {
   "cell_type": "code",
   "execution_count": 56,
   "metadata": {},
   "outputs": [
    {
     "name": "stdout",
     "output_type": "stream",
     "text": [
      "[1 2 3]\n",
      "[[1 2 3]\n",
      " [4 5 6]]\n"
     ]
    }
   ],
   "source": [
    "array_1d=np.array([1,2,3])\n",
    "print(array_1d)\n",
    "array_2d=np.array([[1,2,3],[4,5,6]])\n",
    "print(array_2d)"
   ]
  },
  {
   "cell_type": "markdown",
   "metadata": {},
   "source": [
    "### Creating Martices"
   ]
  },
  {
   "cell_type": "code",
   "execution_count": 57,
   "metadata": {},
   "outputs": [
    {
     "name": "stdout",
     "output_type": "stream",
     "text": [
      "Zeros array\n",
      " [[0. 0. 0. 0.]\n",
      " [0. 0. 0. 0.]\n",
      " [0. 0. 0. 0.]\n",
      " [0. 0. 0. 0.]]\n",
      "ones array\n",
      " [[1. 1. 1. 1. 1. 1.]\n",
      " [1. 1. 1. 1. 1. 1.]\n",
      " [1. 1. 1. 1. 1. 1.]\n",
      " [1. 1. 1. 1. 1. 1.]\n",
      " [1. 1. 1. 1. 1. 1.]\n",
      " [1. 1. 1. 1. 1. 1.]]\n",
      "full array\n",
      " [[9 9 9]\n",
      " [9 9 9]\n",
      " [9 9 9]]\n",
      "random array\n",
      " [[3.55176424 8.26180119 0.26433109]\n",
      " [9.02248684 6.14496053 2.77295764]\n",
      " [3.63231419 9.00353073 0.3770443 ]]\n"
     ]
    }
   ],
   "source": [
    "Zeros = np.zeros((4,4))\n",
    "ones=np.ones((6,6))\n",
    "print(\"Zeros array\\n\",Zeros)\n",
    "print(\"ones array\\n\",ones)\n",
    "Full=np.full((3,3),9)\n",
    "print(\"full array\\n\",Full)\n",
    "random=(np.random.random((3,3))*10)\n",
    "print(\"random array\\n\",random)\n"
   ]
  },
  {
   "cell_type": "markdown",
   "metadata": {},
   "source": [
    "### Array Properties\n"
   ]
  },
  {
   "cell_type": "code",
   "execution_count": 58,
   "metadata": {},
   "outputs": [
    {
     "name": "stdout",
     "output_type": "stream",
     "text": [
      "Shape (2, 3)\n",
      "Dimension 2\n",
      "size 6\n",
      "Data Type int64\n"
     ]
    }
   ],
   "source": [
    "arr=np.array([[1,2,3],[4,5,6]])\n",
    "print(\"Shape\",arr.shape)\n",
    "print(\"Dimension\",arr.ndim)\n",
    "print(\"size\",arr.size)\n",
    "print(\"Data Type\",arr.dtype)"
   ]
  },
  {
   "cell_type": "code",
   "execution_count": 59,
   "metadata": {},
   "outputs": [
    {
     "name": "stdout",
     "output_type": "stream",
     "text": [
      "Shape (2, 3)\n",
      "Dimension 2\n",
      "size 6\n",
      "Data Type <U1\n"
     ]
    }
   ],
   "source": [
    "arr=np.array([['A','B','C'],['D','E','F']])\n",
    "print(\"Shape\",arr.shape)\n",
    "print(\"Dimension\",arr.ndim)\n",
    "print(\"size\",arr.size)\n",
    "print(\"Data Type\",arr.dtype)"
   ]
  },
  {
   "cell_type": "code",
   "execution_count": 60,
   "metadata": {},
   "outputs": [
    {
     "name": "stdout",
     "output_type": "stream",
     "text": [
      "Array:\n",
      " [ 0  1  2  3  4  5  6  7  8  9 10 11]\n",
      "Reshape:\n",
      " [[ 0  1  2  3]\n",
      " [ 4  5  6  7]\n",
      " [ 8  9 10 11]]\n"
     ]
    }
   ],
   "source": [
    "import numpy as np\n",
    "\n",
    "arr = np.arange(12)\n",
    "print(\"Array:\\n\", arr)\n",
    "\n",
    "Reshape = np.reshape(arr, (3, 4))\n",
    "print(\"Reshape:\\n\", Reshape)\n"
   ]
  },
  {
   "cell_type": "markdown",
   "metadata": {},
   "source": [
    "### Selection in Arrays"
   ]
  },
  {
   "cell_type": "code",
   "execution_count": 61,
   "metadata": {},
   "outputs": [
    {
     "name": "stdout",
     "output_type": "stream",
     "text": [
      "Specific Element  3\n",
      "Specific Element  [1 2 3]\n",
      "Specific Element  [2 5]\n"
     ]
    }
   ],
   "source": [
    "arr=np.array([[1,2,3],[4,5,6]])\n",
    "\n",
    "print(\"Specific Element \",arr[0,2])\n",
    "print(\"Specific Element \",arr[0])\n",
    "print(\"Specific Element \",arr[:,1])\n"
   ]
  },
  {
   "cell_type": "markdown",
   "metadata": {},
   "source": [
    "### Sorting"
   ]
  },
  {
   "cell_type": "code",
   "execution_count": 62,
   "metadata": {},
   "outputs": [
    {
     "name": "stdout",
     "output_type": "stream",
     "text": [
      "Sorted Array : [ 1  2  2  4  5 32 78]\n",
      "Sorted Array : [[1 1]\n",
      " [2 2]\n",
      " [3 3]]\n"
     ]
    }
   ],
   "source": [
    "unsorted = np.array([2,5,78,32,1,2,4])\n",
    "print(\"Sorted Array :\",np.sort(unsorted))\n",
    "\n",
    "unsorted_2d = np.array([[1,2],[2,3],[3,1]])\n",
    "print(\"Sorted Array :\",np.sort(unsorted_2d,axis=0))\n",
    "\n"
   ]
  },
  {
   "cell_type": "markdown",
   "metadata": {},
   "source": [
    "### Filtering"
   ]
  },
  {
   "cell_type": "code",
   "execution_count": 63,
   "metadata": {},
   "outputs": [
    {
     "name": "stdout",
     "output_type": "stream",
     "text": [
      "Even Numbers: \n",
      " [ 2  4  6  8 10 12 14 16 18]\n",
      "Odd Numbers: \n",
      " [ 1  3  5  7  9 11 13 15 17 19]\n",
      "Numbers greater than 50 : \n",
      " []\n"
     ]
    }
   ],
   "source": [
    "numbers=np.arange(1,20)\n",
    "Even_numbers=numbers[numbers % 2 == 0]\n",
    "print(\"Even Numbers: \\n\",Even_numbers)\n",
    "\n",
    "Odd_numbers=numbers[numbers % 2 != 0]\n",
    "print(\"Odd Numbers: \\n\",Odd_numbers)\n",
    "\n",
    "## Another Way\n",
    "mask = numbers > 50\n",
    "print(\"Numbers greater than 50 : \\n\",numbers[mask])\n",
    "\n"
   ]
  },
  {
   "cell_type": "markdown",
   "metadata": {},
   "source": [
    "### Facing Indexing and Np Where"
   ]
  },
  {
   "cell_type": "code",
   "execution_count": 66,
   "metadata": {},
   "outputs": [
    {
     "name": "stdout",
     "output_type": "stream",
     "text": [
      "[ 1  3  5  7  9 11]\n",
      "(array([ 1,  3,  5,  7,  9, 11, 13, 15, 17]),)\n",
      "index of even numbers: [ 2  4  6  8 10 12 14 16 18]\n",
      "[  3   6   9  12  15  18  21  24  27  30 110 120 130 140 150 160 170 180\n",
      " 190]\n",
      "[ True  True  True  True  True  True  True  True  True  True False False\n",
      " False False False False False False False]\n"
     ]
    }
   ],
   "source": [
    "indices = [0,2,4,6,8,10]\n",
    "print(numbers[indices])\n",
    "\n",
    "Np_where=np.where(numbers % 2==0)\n",
    "print(Np_where)\n",
    "print(\"index of even numbers:\",numbers[Np_where])\n",
    "\n",
    "#conditon Array\n",
    "conditon_array=np.where(numbers>10,numbers*10,numbers*3)\n",
    "print(conditon_array)\n",
    "conditon_array=np.where(numbers>10,False,True)\n",
    "print(conditon_array)"
   ]
  },
  {
   "cell_type": "markdown",
   "metadata": {},
   "source": [
    "### Adding and Removing Elements"
   ]
  },
  {
   "cell_type": "code",
   "execution_count": 68,
   "metadata": {},
   "outputs": [
    {
     "name": "stdout",
     "output_type": "stream",
     "text": [
      "Shaped Of Array A and B are same ? False\n",
      "Shaped Of Array A and C are same ? True\n"
     ]
    }
   ],
   "source": [
    "a=np.array([[1,2],[2,3]])\n",
    "b=np.array([[1,2,4],[2,3,3]])\n",
    "c=np.array([[1,2],[2,3]])\n",
    "\n",
    "print(\"Shaped Of Array A and B are same ?\",a.shape==b.shape)\n",
    "print(\"Shaped Of Array A and C are same ?\",a.shape==c.shape)"
   ]
  },
  {
   "cell_type": "code",
   "execution_count": 75,
   "metadata": {},
   "outputs": [
    {
     "name": "stdout",
     "output_type": "stream",
     "text": [
      "[[1 2 3]\n",
      " [2 3 4]\n",
      " [7 8 3]]\n",
      "[[1 2 3 7]\n",
      " [2 3 4 8]]\n"
     ]
    }
   ],
   "source": [
    "#Adding Elements In Row\n",
    "Orginal=np.array([[1,2,3],[2,3,4]])\n",
    "new_element=np.array([7,8,3])\n",
    "Add_row=np.vstack((Orginal,new_element))\n",
    "print(Add_row)\n",
    "\n",
    "#Adding Elements In Colume\n",
    "Orginal=np.array([[1,2,3],[2,3,4]])\n",
    "new_element=np.array([[7],[8]])\n",
    "Add_row=np.hstack((Orginal,new_element))\n",
    "print(Add_row)\n"
   ]
  },
  {
   "cell_type": "code",
   "execution_count": null,
   "metadata": {},
   "outputs": [],
   "source": []
  }
 ],
 "metadata": {
  "kernelspec": {
   "display_name": "myenv",
   "language": "python",
   "name": "python3"
  },
  "language_info": {
   "codemirror_mode": {
    "name": "ipython",
    "version": 3
   },
   "file_extension": ".py",
   "mimetype": "text/x-python",
   "name": "python",
   "nbconvert_exporter": "python",
   "pygments_lexer": "ipython3",
   "version": "3.13.0rc3"
  }
 },
 "nbformat": 4,
 "nbformat_minor": 2
}
