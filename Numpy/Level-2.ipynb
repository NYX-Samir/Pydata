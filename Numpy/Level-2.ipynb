{
 "cells": [
  {
   "cell_type": "markdown",
   "metadata": {},
   "source": [
    "### 1️⃣ Ek random array banao aur usme se max, min aur mean value find karo."
   ]
  },
  {
   "cell_type": "code",
   "execution_count": 1,
   "metadata": {},
   "outputs": [],
   "source": [
    "import numpy as np\n",
    "import random"
   ]
  },
  {
   "cell_type": "code",
   "execution_count": null,
   "metadata": {},
   "outputs": [
    {
     "name": "stdout",
     "output_type": "stream",
     "text": [
      "[0.18048287 0.14879319 0.38521971 0.71738345 0.60980347 0.17916384\n",
      " 0.14163275 0.94783768 0.61397617 0.9721788  0.06023498 0.22204385\n",
      " 0.31696972 0.65164003 0.26572278 0.03459353 0.38092727 0.66087408\n",
      " 0.18998518 0.72362725]\n",
      "0.9721788023173427\n",
      "0.0345935304673497\n",
      "0.4201545300757904\n"
     ]
    }
   ],
   "source": [
    "array=(np.random.random(20))*100\n",
    "print(array)\n",
    "print(array.max())\n",
    "print(array.min())\n",
    "print(array.mean())\n"
   ]
  },
  {
   "cell_type": "markdown",
   "metadata": {},
   "source": [
    "### 2️⃣ Ek array banao jisme sirf even numbers ho (1 se 50 tak)."
   ]
  },
  {
   "cell_type": "code",
   "execution_count": 14,
   "metadata": {},
   "outputs": [
    {
     "name": "stdout",
     "output_type": "stream",
     "text": [
      "[ 0  2  4  6  8 10 12 14 16 18 20 22 24 26 28 30 32 34 36 38 40 42 44 46\n",
      " 48 50]\n"
     ]
    }
   ],
   "source": [
    "EvenArray =np.arange(0,51,2)\n",
    "print(EvenArray)"
   ]
  },
  {
   "cell_type": "markdown",
   "metadata": {},
   "source": [
    "### 3️⃣ Ek 1D array ko reverse karo (e.g., [1, 2, 3] ➝ [3, 2, 1])."
   ]
  },
  {
   "cell_type": "code",
   "execution_count": 17,
   "metadata": {},
   "outputs": [
    {
     "name": "stdout",
     "output_type": "stream",
     "text": [
      "[10  9  8  8  7  6  5  4  3  2  1]\n"
     ]
    }
   ],
   "source": [
    "array_1d =np.array([1,2,3,4,5,6,7,8,8,9,10])\n",
    "reversed = array_1d[::-1]\n",
    "print(reversed)"
   ]
  },
  {
   "cell_type": "markdown",
   "metadata": {},
   "source": [
    "### 4️⃣ Ek 5x5 matrix banao aur uske diagonal elements extract karo."
   ]
  },
  {
   "cell_type": "code",
   "execution_count": 25,
   "metadata": {},
   "outputs": [
    {
     "name": "stdout",
     "output_type": "stream",
     "text": [
      "[[ 0  1  2  3  4]\n",
      " [ 5  6  7  8  9]\n",
      " [10 11 12 13 14]\n",
      " [15 16 17 18 19]\n",
      " [20 21 22 23 24]]\n",
      "60\n"
     ]
    }
   ],
   "source": [
    "array_5d=np.arange(25)\n",
    "Reshaped = array_5d.reshape(5,5)\n",
    "print(Reshaped)\n",
    "print(Reshaped.diagonal().sum())"
   ]
  },
  {
   "cell_type": "markdown",
   "metadata": {},
   "source": [
    "### 5️⃣ Ek array ke duplicate values remove karo."
   ]
  },
  {
   "cell_type": "code",
   "execution_count": 30,
   "metadata": {},
   "outputs": [
    {
     "name": "stdout",
     "output_type": "stream",
     "text": [
      "[1 2 3 4 5 2 3 4 2 1 5 6 8 4]\n",
      "[1 2 3 4 5 6 8]\n"
     ]
    }
   ],
   "source": [
    "arr = np.array([1,2,3,4,5,2,3,4,2,1,5,6,8,4])\n",
    "print(arr)\n",
    "duplicate=np.unique(arr)\n",
    "print(duplicate)"
   ]
  },
  {
   "cell_type": "code",
   "execution_count": null,
   "metadata": {},
   "outputs": [],
   "source": []
  }
 ],
 "metadata": {
  "kernelspec": {
   "display_name": "myenv",
   "language": "python",
   "name": "python3"
  },
  "language_info": {
   "codemirror_mode": {
    "name": "ipython",
    "version": 3
   },
   "file_extension": ".py",
   "mimetype": "text/x-python",
   "name": "python",
   "nbconvert_exporter": "python",
   "pygments_lexer": "ipython3",
   "version": "3.13.0"
  }
 },
 "nbformat": 4,
 "nbformat_minor": 2
}
