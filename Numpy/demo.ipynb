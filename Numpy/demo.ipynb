{
 "cells": [
  {
   "cell_type": "code",
   "execution_count": 1,
   "metadata": {},
   "outputs": [],
   "source": [
    "import numpy as np\n"
   ]
  },
  {
   "cell_type": "code",
   "execution_count": null,
   "metadata": {},
   "outputs": [
    {
     "name": "stdout",
     "output_type": "stream",
     "text": [
      "[[  1 120 150  90  75 200 180]\n",
      " [  2 130 160 100  85 195 175]\n",
      " [  3 140 155 110  95 210 190]\n",
      " [  4 125 165 105  80 205 185]\n",
      " [  5 135 170 115  90 220 195]\n",
      " [  6 145 175 120  85 225 200]\n",
      " [  7 150 180 125 100 230 205]\n",
      " [  8 155 185 130 105 240 210]\n",
      " [  9 160 190 135 110 250 215]\n",
      " [ 10 165 195 140 115 260 220]]\n"
     ]
    }
   ],
   "source": [
    "Sales=np.array([    [1,120 ,150 , 90 , 75 ,200 ,180],\n",
    "                    [2,130 ,160 ,100 , 85 ,195, 175],\n",
    "                    [3,140 ,155, 110 , 95 ,210 ,190],\n",
    "                    [4,125 ,165, 105 , 80 ,205, 185],\n",
    "                    [5,135 ,170 ,115  ,90 ,220 ,195],\n",
    "                    [6,145 ,175 ,120 , 85 ,225, 200],\n",
    "                    [7,150 ,180, 125, 100 ,230, 205],\n",
    "                    [8,155 ,185 ,130, 105, 240, 210],\n",
    "                    [9,160 ,190, 135 ,110 ,250, 215],\n",
    "                    [10,165, 195 ,140, 115, 260, 220]])\n",
    "print(Sales)"
   ]
  },
  {
   "cell_type": "code",
   "execution_count": 16,
   "metadata": {},
   "outputs": [
    {
     "name": "stdout",
     "output_type": "stream",
     "text": [
      "[ 815  845  900  865  925  950  990 1025 1060 1095]\n"
     ]
    }
   ],
   "source": [
    "\n",
    "day=np.sum(Sales[:,1:],axis=1)\n",
    "print(day)"
   ]
  },
  {
   "cell_type": "code",
   "execution_count": 17,
   "metadata": {},
   "outputs": [
    {
     "name": "stdout",
     "output_type": "stream",
     "text": [
      "[1425 1725 1170  940 2235 1975]\n"
     ]
    }
   ],
   "source": [
    "year=np.sum(Sales[:,1:],axis=0)\n",
    "print(year)"
   ]
  },
  {
   "cell_type": "code",
   "execution_count": null,
   "metadata": {},
   "outputs": [],
   "source": []
  }
 ],
 "metadata": {
  "kernelspec": {
   "display_name": "myenv",
   "language": "python",
   "name": "python3"
  },
  "language_info": {
   "codemirror_mode": {
    "name": "ipython",
    "version": 3
   },
   "file_extension": ".py",
   "mimetype": "text/x-python",
   "name": "python",
   "nbconvert_exporter": "python",
   "pygments_lexer": "ipython3",
   "version": "3.13.0rc3"
  }
 },
 "nbformat": 4,
 "nbformat_minor": 2
}
